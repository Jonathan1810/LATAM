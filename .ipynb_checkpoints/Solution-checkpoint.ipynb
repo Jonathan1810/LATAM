{
 "cells": [
  {
   "cell_type": "markdown",
   "id": "fa8685a8",
   "metadata": {},
   "source": [
    "## Prueba LATAM "
   ]
  },
  {
   "cell_type": "markdown",
   "id": "7c73d8bd",
   "metadata": {},
   "source": [
    "Importamos paquetes"
   ]
  },
  {
   "cell_type": "code",
   "execution_count": 32,
   "id": "80c509ab",
   "metadata": {},
   "outputs": [],
   "source": [
    "import pandas as pd\n",
    "from sklearn import linear_model\n",
    "from sklearn.linear_model import LogisticRegression\n",
    "from sklearn import model_selection \n",
    "from sklearn.model_selection import train_test_split \n",
    "import matplotlib.pyplot as plt\n",
    "from sklearn import metrics\n",
    "from sklearn.preprocessing import OrdinalEncoder\n",
    "from sklearn.preprocessing import StandardScaler\n",
    "import numpy as np\n",
    "import datetime\n",
    "%matplotlib inline"
   ]
  },
  {
   "cell_type": "markdown",
   "id": "c5720cf3",
   "metadata": {},
   "source": [
    "Importamos la base de datos "
   ]
  },
  {
   "cell_type": "code",
   "execution_count": 2,
   "id": "767b78e1",
   "metadata": {},
   "outputs": [
    {
     "data": {
      "text/html": [
       "<div>\n",
       "<style scoped>\n",
       "    .dataframe tbody tr th:only-of-type {\n",
       "        vertical-align: middle;\n",
       "    }\n",
       "\n",
       "    .dataframe tbody tr th {\n",
       "        vertical-align: top;\n",
       "    }\n",
       "\n",
       "    .dataframe thead th {\n",
       "        text-align: right;\n",
       "    }\n",
       "</style>\n",
       "<table border=\"1\" class=\"dataframe\">\n",
       "  <thead>\n",
       "    <tr style=\"text-align: right;\">\n",
       "      <th></th>\n",
       "      <th>Fecha-I</th>\n",
       "      <th>Vlo-I</th>\n",
       "      <th>Ori-I</th>\n",
       "      <th>Des-I</th>\n",
       "      <th>Emp-I</th>\n",
       "      <th>Fecha-O</th>\n",
       "      <th>Vlo-O</th>\n",
       "      <th>Ori-O</th>\n",
       "      <th>Des-O</th>\n",
       "      <th>Emp-O</th>\n",
       "      <th>DIA</th>\n",
       "      <th>MES</th>\n",
       "      <th>AÑO</th>\n",
       "      <th>DIANOM</th>\n",
       "      <th>TIPOVUELO</th>\n",
       "      <th>OPERA</th>\n",
       "      <th>SIGLAORI</th>\n",
       "      <th>SIGLADES</th>\n",
       "    </tr>\n",
       "  </thead>\n",
       "  <tbody>\n",
       "    <tr>\n",
       "      <th>0</th>\n",
       "      <td>2017-01-01 23:30:00</td>\n",
       "      <td>226</td>\n",
       "      <td>SCEL</td>\n",
       "      <td>KMIA</td>\n",
       "      <td>AAL</td>\n",
       "      <td>2017-01-01 23:33:00</td>\n",
       "      <td>226</td>\n",
       "      <td>SCEL</td>\n",
       "      <td>KMIA</td>\n",
       "      <td>AAL</td>\n",
       "      <td>1</td>\n",
       "      <td>1</td>\n",
       "      <td>2017</td>\n",
       "      <td>Domingo</td>\n",
       "      <td>I</td>\n",
       "      <td>American Airlines</td>\n",
       "      <td>Santiago</td>\n",
       "      <td>Miami</td>\n",
       "    </tr>\n",
       "    <tr>\n",
       "      <th>1</th>\n",
       "      <td>2017-01-02 23:30:00</td>\n",
       "      <td>226</td>\n",
       "      <td>SCEL</td>\n",
       "      <td>KMIA</td>\n",
       "      <td>AAL</td>\n",
       "      <td>2017-01-02 23:39:00</td>\n",
       "      <td>226</td>\n",
       "      <td>SCEL</td>\n",
       "      <td>KMIA</td>\n",
       "      <td>AAL</td>\n",
       "      <td>2</td>\n",
       "      <td>1</td>\n",
       "      <td>2017</td>\n",
       "      <td>Lunes</td>\n",
       "      <td>I</td>\n",
       "      <td>American Airlines</td>\n",
       "      <td>Santiago</td>\n",
       "      <td>Miami</td>\n",
       "    </tr>\n",
       "    <tr>\n",
       "      <th>2</th>\n",
       "      <td>2017-01-03 23:30:00</td>\n",
       "      <td>226</td>\n",
       "      <td>SCEL</td>\n",
       "      <td>KMIA</td>\n",
       "      <td>AAL</td>\n",
       "      <td>2017-01-03 23:39:00</td>\n",
       "      <td>226</td>\n",
       "      <td>SCEL</td>\n",
       "      <td>KMIA</td>\n",
       "      <td>AAL</td>\n",
       "      <td>3</td>\n",
       "      <td>1</td>\n",
       "      <td>2017</td>\n",
       "      <td>Martes</td>\n",
       "      <td>I</td>\n",
       "      <td>American Airlines</td>\n",
       "      <td>Santiago</td>\n",
       "      <td>Miami</td>\n",
       "    </tr>\n",
       "    <tr>\n",
       "      <th>3</th>\n",
       "      <td>2017-01-04 23:30:00</td>\n",
       "      <td>226</td>\n",
       "      <td>SCEL</td>\n",
       "      <td>KMIA</td>\n",
       "      <td>AAL</td>\n",
       "      <td>2017-01-04 23:33:00</td>\n",
       "      <td>226</td>\n",
       "      <td>SCEL</td>\n",
       "      <td>KMIA</td>\n",
       "      <td>AAL</td>\n",
       "      <td>4</td>\n",
       "      <td>1</td>\n",
       "      <td>2017</td>\n",
       "      <td>Miercoles</td>\n",
       "      <td>I</td>\n",
       "      <td>American Airlines</td>\n",
       "      <td>Santiago</td>\n",
       "      <td>Miami</td>\n",
       "    </tr>\n",
       "    <tr>\n",
       "      <th>4</th>\n",
       "      <td>2017-01-05 23:30:00</td>\n",
       "      <td>226</td>\n",
       "      <td>SCEL</td>\n",
       "      <td>KMIA</td>\n",
       "      <td>AAL</td>\n",
       "      <td>2017-01-05 23:28:00</td>\n",
       "      <td>226</td>\n",
       "      <td>SCEL</td>\n",
       "      <td>KMIA</td>\n",
       "      <td>AAL</td>\n",
       "      <td>5</td>\n",
       "      <td>1</td>\n",
       "      <td>2017</td>\n",
       "      <td>Jueves</td>\n",
       "      <td>I</td>\n",
       "      <td>American Airlines</td>\n",
       "      <td>Santiago</td>\n",
       "      <td>Miami</td>\n",
       "    </tr>\n",
       "    <tr>\n",
       "      <th>...</th>\n",
       "      <td>...</td>\n",
       "      <td>...</td>\n",
       "      <td>...</td>\n",
       "      <td>...</td>\n",
       "      <td>...</td>\n",
       "      <td>...</td>\n",
       "      <td>...</td>\n",
       "      <td>...</td>\n",
       "      <td>...</td>\n",
       "      <td>...</td>\n",
       "      <td>...</td>\n",
       "      <td>...</td>\n",
       "      <td>...</td>\n",
       "      <td>...</td>\n",
       "      <td>...</td>\n",
       "      <td>...</td>\n",
       "      <td>...</td>\n",
       "      <td>...</td>\n",
       "    </tr>\n",
       "    <tr>\n",
       "      <th>68201</th>\n",
       "      <td>2017-12-22 14:55:00</td>\n",
       "      <td>400</td>\n",
       "      <td>SCEL</td>\n",
       "      <td>SPJC</td>\n",
       "      <td>JAT</td>\n",
       "      <td>2017-12-22 15:41:00</td>\n",
       "      <td>400.0</td>\n",
       "      <td>SCEL</td>\n",
       "      <td>SPJC</td>\n",
       "      <td>JAT</td>\n",
       "      <td>22</td>\n",
       "      <td>12</td>\n",
       "      <td>2017</td>\n",
       "      <td>Viernes</td>\n",
       "      <td>I</td>\n",
       "      <td>JetSmart SPA</td>\n",
       "      <td>Santiago</td>\n",
       "      <td>Lima</td>\n",
       "    </tr>\n",
       "    <tr>\n",
       "      <th>68202</th>\n",
       "      <td>2017-12-25 14:55:00</td>\n",
       "      <td>400</td>\n",
       "      <td>SCEL</td>\n",
       "      <td>SPJC</td>\n",
       "      <td>JAT</td>\n",
       "      <td>2017-12-25 15:11:00</td>\n",
       "      <td>400.0</td>\n",
       "      <td>SCEL</td>\n",
       "      <td>SPJC</td>\n",
       "      <td>JAT</td>\n",
       "      <td>25</td>\n",
       "      <td>12</td>\n",
       "      <td>2017</td>\n",
       "      <td>Lunes</td>\n",
       "      <td>I</td>\n",
       "      <td>JetSmart SPA</td>\n",
       "      <td>Santiago</td>\n",
       "      <td>Lima</td>\n",
       "    </tr>\n",
       "    <tr>\n",
       "      <th>68203</th>\n",
       "      <td>2017-12-27 14:55:00</td>\n",
       "      <td>400</td>\n",
       "      <td>SCEL</td>\n",
       "      <td>SPJC</td>\n",
       "      <td>JAT</td>\n",
       "      <td>2017-12-27 15:35:00</td>\n",
       "      <td>400.0</td>\n",
       "      <td>SCEL</td>\n",
       "      <td>SPJC</td>\n",
       "      <td>JAT</td>\n",
       "      <td>27</td>\n",
       "      <td>12</td>\n",
       "      <td>2017</td>\n",
       "      <td>Miercoles</td>\n",
       "      <td>I</td>\n",
       "      <td>JetSmart SPA</td>\n",
       "      <td>Santiago</td>\n",
       "      <td>Lima</td>\n",
       "    </tr>\n",
       "    <tr>\n",
       "      <th>68204</th>\n",
       "      <td>2017-12-29 14:55:00</td>\n",
       "      <td>400</td>\n",
       "      <td>SCEL</td>\n",
       "      <td>SPJC</td>\n",
       "      <td>JAT</td>\n",
       "      <td>2017-12-29 15:08:00</td>\n",
       "      <td>400.0</td>\n",
       "      <td>SCEL</td>\n",
       "      <td>SPJC</td>\n",
       "      <td>JAT</td>\n",
       "      <td>29</td>\n",
       "      <td>12</td>\n",
       "      <td>2017</td>\n",
       "      <td>Viernes</td>\n",
       "      <td>I</td>\n",
       "      <td>JetSmart SPA</td>\n",
       "      <td>Santiago</td>\n",
       "      <td>Lima</td>\n",
       "    </tr>\n",
       "    <tr>\n",
       "      <th>68205</th>\n",
       "      <td>2017-12-31 14:55:00</td>\n",
       "      <td>400</td>\n",
       "      <td>SCEL</td>\n",
       "      <td>SPJC</td>\n",
       "      <td>JAT</td>\n",
       "      <td>2017-12-31 15:04:00</td>\n",
       "      <td>400.0</td>\n",
       "      <td>SCEL</td>\n",
       "      <td>SPJC</td>\n",
       "      <td>JAT</td>\n",
       "      <td>31</td>\n",
       "      <td>12</td>\n",
       "      <td>2017</td>\n",
       "      <td>Domingo</td>\n",
       "      <td>I</td>\n",
       "      <td>JetSmart SPA</td>\n",
       "      <td>Santiago</td>\n",
       "      <td>Lima</td>\n",
       "    </tr>\n",
       "  </tbody>\n",
       "</table>\n",
       "<p>68206 rows × 18 columns</p>\n",
       "</div>"
      ],
      "text/plain": [
       "                   Fecha-I Vlo-I Ori-I Des-I Emp-I              Fecha-O  \\\n",
       "0      2017-01-01 23:30:00   226  SCEL  KMIA   AAL  2017-01-01 23:33:00   \n",
       "1      2017-01-02 23:30:00   226  SCEL  KMIA   AAL  2017-01-02 23:39:00   \n",
       "2      2017-01-03 23:30:00   226  SCEL  KMIA   AAL  2017-01-03 23:39:00   \n",
       "3      2017-01-04 23:30:00   226  SCEL  KMIA   AAL  2017-01-04 23:33:00   \n",
       "4      2017-01-05 23:30:00   226  SCEL  KMIA   AAL  2017-01-05 23:28:00   \n",
       "...                    ...   ...   ...   ...   ...                  ...   \n",
       "68201  2017-12-22 14:55:00   400  SCEL  SPJC   JAT  2017-12-22 15:41:00   \n",
       "68202  2017-12-25 14:55:00   400  SCEL  SPJC   JAT  2017-12-25 15:11:00   \n",
       "68203  2017-12-27 14:55:00   400  SCEL  SPJC   JAT  2017-12-27 15:35:00   \n",
       "68204  2017-12-29 14:55:00   400  SCEL  SPJC   JAT  2017-12-29 15:08:00   \n",
       "68205  2017-12-31 14:55:00   400  SCEL  SPJC   JAT  2017-12-31 15:04:00   \n",
       "\n",
       "       Vlo-O Ori-O Des-O Emp-O  DIA  MES   AÑO     DIANOM TIPOVUELO  \\\n",
       "0        226  SCEL  KMIA   AAL    1    1  2017    Domingo         I   \n",
       "1        226  SCEL  KMIA   AAL    2    1  2017      Lunes         I   \n",
       "2        226  SCEL  KMIA   AAL    3    1  2017     Martes         I   \n",
       "3        226  SCEL  KMIA   AAL    4    1  2017  Miercoles         I   \n",
       "4        226  SCEL  KMIA   AAL    5    1  2017     Jueves         I   \n",
       "...      ...   ...   ...   ...  ...  ...   ...        ...       ...   \n",
       "68201  400.0  SCEL  SPJC   JAT   22   12  2017    Viernes         I   \n",
       "68202  400.0  SCEL  SPJC   JAT   25   12  2017      Lunes         I   \n",
       "68203  400.0  SCEL  SPJC   JAT   27   12  2017  Miercoles         I   \n",
       "68204  400.0  SCEL  SPJC   JAT   29   12  2017    Viernes         I   \n",
       "68205  400.0  SCEL  SPJC   JAT   31   12  2017    Domingo         I   \n",
       "\n",
       "                   OPERA  SIGLAORI SIGLADES  \n",
       "0      American Airlines  Santiago    Miami  \n",
       "1      American Airlines  Santiago    Miami  \n",
       "2      American Airlines  Santiago    Miami  \n",
       "3      American Airlines  Santiago    Miami  \n",
       "4      American Airlines  Santiago    Miami  \n",
       "...                  ...       ...      ...  \n",
       "68201       JetSmart SPA  Santiago     Lima  \n",
       "68202       JetSmart SPA  Santiago     Lima  \n",
       "68203       JetSmart SPA  Santiago     Lima  \n",
       "68204       JetSmart SPA  Santiago     Lima  \n",
       "68205       JetSmart SPA  Santiago     Lima  \n",
       "\n",
       "[68206 rows x 18 columns]"
      ]
     },
     "execution_count": 2,
     "metadata": {},
     "output_type": "execute_result"
    }
   ],
   "source": [
    "Vuelos_LATAM=pd.read_csv(\"dataset_SCL.csv\", sep=\",\", low_memory=False)\n",
    "Vuelos_LATAM"
   ]
  },
  {
   "cell_type": "markdown",
   "id": "b4c8b21f",
   "metadata": {},
   "source": [
    "Revisaremos las dimensiones de la tabla, para ver si se importo correctamente"
   ]
  },
  {
   "cell_type": "code",
   "execution_count": 30,
   "id": "9afff43d",
   "metadata": {},
   "outputs": [
    {
     "data": {
      "text/plain": [
       "(68206, 18)"
      ]
     },
     "execution_count": 30,
     "metadata": {},
     "output_type": "execute_result"
    }
   ],
   "source": [
    "Vuelos_LATAM.shape"
   ]
  },
  {
   "cell_type": "markdown",
   "id": "7d71d628",
   "metadata": {},
   "source": [
    "Renombramos las variables"
   ]
  },
  {
   "cell_type": "code",
   "execution_count": 3,
   "id": "2a1539a7",
   "metadata": {},
   "outputs": [
    {
     "data": {
      "text/plain": [
       "Index(['Fecha_I', 'Vlo_I', 'Orio_I', 'Des_I', 'Emp_I', 'Fecha_O', 'Vlo_O',\n",
       "       'Orio_O', 'Des_O', 'Emp_O', 'Dia', 'Mes', 'Año', 'Diamon',\n",
       "       'Tipodevuelo', 'Opera', 'Siglaori', 'Siglades'],\n",
       "      dtype='object')"
      ]
     },
     "execution_count": 3,
     "metadata": {},
     "output_type": "execute_result"
    }
   ],
   "source": [
    "Vuelos_LATAM.columns=[\"Fecha_I\",\"Vlo_I\", \"Orio_I\", \"Des_I\", \"Emp_I\", \"Fecha_O\", \"Vlo_O\", \"Orio_O\", \"Des_O\", \"Emp_O\", \"Dia\", \"Mes\", \"Año\", \"Diamon\", \"Tipodevuelo\", \"Opera\", \"Siglaori\", \"Siglades\"]\n",
    "Vuelos_LATAM.columns"
   ]
  },
  {
   "cell_type": "markdown",
   "id": "48b0948c",
   "metadata": {},
   "source": [
    "Veremos la categoria de cada variable, para ver si es debido hacer algun cambio de categoria a las variables."
   ]
  },
  {
   "cell_type": "code",
   "execution_count": 4,
   "id": "5065edb5",
   "metadata": {},
   "outputs": [
    {
     "name": "stdout",
     "output_type": "stream",
     "text": [
      "<class 'pandas.core.frame.DataFrame'>\n",
      "RangeIndex: 68206 entries, 0 to 68205\n",
      "Data columns (total 18 columns):\n",
      " #   Column       Non-Null Count  Dtype \n",
      "---  ------       --------------  ----- \n",
      " 0   Fecha_I      68206 non-null  object\n",
      " 1   Vlo_I        68206 non-null  object\n",
      " 2   Orio_I       68206 non-null  object\n",
      " 3   Des_I        68206 non-null  object\n",
      " 4   Emp-I        68206 non-null  object\n",
      " 5   Fecha_O      68206 non-null  object\n",
      " 6   Vlo_O        68205 non-null  object\n",
      " 7   Orio_O       68206 non-null  object\n",
      " 8   Des_O        68206 non-null  object\n",
      " 9   Emp_O        68206 non-null  object\n",
      " 10  Dia          68206 non-null  int64 \n",
      " 11  Mes          68206 non-null  int64 \n",
      " 12  Año          68206 non-null  int64 \n",
      " 13  Diamon       68206 non-null  object\n",
      " 14  Tipodevuelo  68206 non-null  object\n",
      " 15  Opera        68206 non-null  object\n",
      " 16  Siglaori     68206 non-null  object\n",
      " 17  Siglades     68206 non-null  object\n",
      "dtypes: int64(3), object(15)\n",
      "memory usage: 9.4+ MB\n"
     ]
    }
   ],
   "source": [
    "Vuelos_LATAM.info()"
   ]
  },
  {
   "cell_type": "code",
   "execution_count": null,
   "id": "73b67b24",
   "metadata": {},
   "outputs": [],
   "source": [
    "Revisamos si existe algun NA"
   ]
  },
  {
   "cell_type": "code",
   "execution_count": 5,
   "id": "a9232532",
   "metadata": {},
   "outputs": [
    {
     "data": {
      "text/plain": [
       "array([[False, False, False, ..., False, False, False],\n",
       "       [False, False, False, ..., False, False, False],\n",
       "       [False, False, False, ..., False, False, False],\n",
       "       ...,\n",
       "       [False, False, False, ..., False, False, False],\n",
       "       [False, False, False, ..., False, False, False],\n",
       "       [False, False, False, ..., False, False, False]])"
      ]
     },
     "execution_count": 5,
     "metadata": {},
     "output_type": "execute_result"
    }
   ],
   "source": [
    "Vuelos_LATAM.isnull().values"
   ]
  },
  {
   "cell_type": "markdown",
   "id": "14710e06",
   "metadata": {},
   "source": [
    "Cambiaremos la categoriade datos de algunas variables."
   ]
  },
  {
   "cell_type": "code",
   "execution_count": 4,
   "id": "0c4b42d8",
   "metadata": {
    "scrolled": true
   },
   "outputs": [
    {
     "data": {
      "text/html": [
       "<div>\n",
       "<style scoped>\n",
       "    .dataframe tbody tr th:only-of-type {\n",
       "        vertical-align: middle;\n",
       "    }\n",
       "\n",
       "    .dataframe tbody tr th {\n",
       "        vertical-align: top;\n",
       "    }\n",
       "\n",
       "    .dataframe thead th {\n",
       "        text-align: right;\n",
       "    }\n",
       "</style>\n",
       "<table border=\"1\" class=\"dataframe\">\n",
       "  <thead>\n",
       "    <tr style=\"text-align: right;\">\n",
       "      <th></th>\n",
       "      <th>Fecha_I</th>\n",
       "      <th>Vlo_I</th>\n",
       "      <th>Orio_I</th>\n",
       "      <th>Des_I</th>\n",
       "      <th>Emp_I</th>\n",
       "      <th>Fecha_O</th>\n",
       "      <th>Vlo_O</th>\n",
       "      <th>Orio_O</th>\n",
       "      <th>Des_O</th>\n",
       "      <th>Emp_O</th>\n",
       "      <th>Dia</th>\n",
       "      <th>Mes</th>\n",
       "      <th>Año</th>\n",
       "      <th>Diamon</th>\n",
       "      <th>Tipodevuelo</th>\n",
       "      <th>Opera</th>\n",
       "      <th>Siglaori</th>\n",
       "      <th>Siglades</th>\n",
       "    </tr>\n",
       "  </thead>\n",
       "  <tbody>\n",
       "    <tr>\n",
       "      <th>0</th>\n",
       "      <td>2017-01-01 23:30:00</td>\n",
       "      <td>226</td>\n",
       "      <td>SCEL</td>\n",
       "      <td>KMIA</td>\n",
       "      <td>AAL</td>\n",
       "      <td>2017-01-01 23:33:00</td>\n",
       "      <td>226</td>\n",
       "      <td>SCEL</td>\n",
       "      <td>KMIA</td>\n",
       "      <td>AAL</td>\n",
       "      <td>1</td>\n",
       "      <td>1</td>\n",
       "      <td>2017</td>\n",
       "      <td>Domingo</td>\n",
       "      <td>I</td>\n",
       "      <td>American Airlines</td>\n",
       "      <td>Santiago</td>\n",
       "      <td>Miami</td>\n",
       "    </tr>\n",
       "    <tr>\n",
       "      <th>1</th>\n",
       "      <td>2017-01-02 23:30:00</td>\n",
       "      <td>226</td>\n",
       "      <td>SCEL</td>\n",
       "      <td>KMIA</td>\n",
       "      <td>AAL</td>\n",
       "      <td>2017-01-02 23:39:00</td>\n",
       "      <td>226</td>\n",
       "      <td>SCEL</td>\n",
       "      <td>KMIA</td>\n",
       "      <td>AAL</td>\n",
       "      <td>2</td>\n",
       "      <td>1</td>\n",
       "      <td>2017</td>\n",
       "      <td>Lunes</td>\n",
       "      <td>I</td>\n",
       "      <td>American Airlines</td>\n",
       "      <td>Santiago</td>\n",
       "      <td>Miami</td>\n",
       "    </tr>\n",
       "    <tr>\n",
       "      <th>2</th>\n",
       "      <td>2017-01-03 23:30:00</td>\n",
       "      <td>226</td>\n",
       "      <td>SCEL</td>\n",
       "      <td>KMIA</td>\n",
       "      <td>AAL</td>\n",
       "      <td>2017-01-03 23:39:00</td>\n",
       "      <td>226</td>\n",
       "      <td>SCEL</td>\n",
       "      <td>KMIA</td>\n",
       "      <td>AAL</td>\n",
       "      <td>3</td>\n",
       "      <td>1</td>\n",
       "      <td>2017</td>\n",
       "      <td>Martes</td>\n",
       "      <td>I</td>\n",
       "      <td>American Airlines</td>\n",
       "      <td>Santiago</td>\n",
       "      <td>Miami</td>\n",
       "    </tr>\n",
       "    <tr>\n",
       "      <th>3</th>\n",
       "      <td>2017-01-04 23:30:00</td>\n",
       "      <td>226</td>\n",
       "      <td>SCEL</td>\n",
       "      <td>KMIA</td>\n",
       "      <td>AAL</td>\n",
       "      <td>2017-01-04 23:33:00</td>\n",
       "      <td>226</td>\n",
       "      <td>SCEL</td>\n",
       "      <td>KMIA</td>\n",
       "      <td>AAL</td>\n",
       "      <td>4</td>\n",
       "      <td>1</td>\n",
       "      <td>2017</td>\n",
       "      <td>Miercoles</td>\n",
       "      <td>I</td>\n",
       "      <td>American Airlines</td>\n",
       "      <td>Santiago</td>\n",
       "      <td>Miami</td>\n",
       "    </tr>\n",
       "    <tr>\n",
       "      <th>4</th>\n",
       "      <td>2017-01-05 23:30:00</td>\n",
       "      <td>226</td>\n",
       "      <td>SCEL</td>\n",
       "      <td>KMIA</td>\n",
       "      <td>AAL</td>\n",
       "      <td>2017-01-05 23:28:00</td>\n",
       "      <td>226</td>\n",
       "      <td>SCEL</td>\n",
       "      <td>KMIA</td>\n",
       "      <td>AAL</td>\n",
       "      <td>5</td>\n",
       "      <td>1</td>\n",
       "      <td>2017</td>\n",
       "      <td>Jueves</td>\n",
       "      <td>I</td>\n",
       "      <td>American Airlines</td>\n",
       "      <td>Santiago</td>\n",
       "      <td>Miami</td>\n",
       "    </tr>\n",
       "  </tbody>\n",
       "</table>\n",
       "</div>"
      ],
      "text/plain": [
       "              Fecha_I Vlo_I Orio_I Des_I Emp_I             Fecha_O Vlo_O  \\\n",
       "0 2017-01-01 23:30:00   226   SCEL  KMIA   AAL 2017-01-01 23:33:00   226   \n",
       "1 2017-01-02 23:30:00   226   SCEL  KMIA   AAL 2017-01-02 23:39:00   226   \n",
       "2 2017-01-03 23:30:00   226   SCEL  KMIA   AAL 2017-01-03 23:39:00   226   \n",
       "3 2017-01-04 23:30:00   226   SCEL  KMIA   AAL 2017-01-04 23:33:00   226   \n",
       "4 2017-01-05 23:30:00   226   SCEL  KMIA   AAL 2017-01-05 23:28:00   226   \n",
       "\n",
       "  Orio_O Des_O Emp_O  Dia  Mes   Año     Diamon Tipodevuelo  \\\n",
       "0   SCEL  KMIA   AAL    1    1  2017    Domingo           I   \n",
       "1   SCEL  KMIA   AAL    2    1  2017      Lunes           I   \n",
       "2   SCEL  KMIA   AAL    3    1  2017     Martes           I   \n",
       "3   SCEL  KMIA   AAL    4    1  2017  Miercoles           I   \n",
       "4   SCEL  KMIA   AAL    5    1  2017     Jueves           I   \n",
       "\n",
       "               Opera  Siglaori Siglades  \n",
       "0  American Airlines  Santiago    Miami  \n",
       "1  American Airlines  Santiago    Miami  \n",
       "2  American Airlines  Santiago    Miami  \n",
       "3  American Airlines  Santiago    Miami  \n",
       "4  American Airlines  Santiago    Miami  "
      ]
     },
     "execution_count": 4,
     "metadata": {},
     "output_type": "execute_result"
    }
   ],
   "source": [
    "Vuelos_LATAM[\"Fecha_I\"]=pd.to_datetime(Vuelos_LATAM[\"Fecha_I\"])\n",
    "Vuelos_LATAM[\"Fecha_O\"]=pd.to_datetime(Vuelos_LATAM[\"Fecha_O\"])\n",
    "Vuelos_LATAM.head()\n"
   ]
  },
  {
   "cell_type": "markdown",
   "id": "f271b053",
   "metadata": {},
   "source": [
    "Una ves que vimos que no tiene ninngun NA el dataframe he hicimos los cambios de categorias en el tipo de datos. Pasaremos a ver como se distribuyen los datos.\n",
    "Debido que la mayoria de los datos son variables categoricas, un graficos de dispersion no seria una buena representacion de la dsitribucion de los datos. Es por esto que los graficos mas adecuados seran "
   ]
  },
  {
   "cell_type": "code",
   "execution_count": 7,
   "id": "3eb5c71b",
   "metadata": {
    "scrolled": true
   },
   "outputs": [
    {
     "data": {
      "image/png": "[encoded data removed]",
      "text/plain": [
       "<Figure size 432x288 with 1 Axes>"
      ]
     },
     "metadata": {
      "needs_background": "light"
     },
     "output_type": "display_data"
    }
   ],
   "source": [
    "plt.hist(Vuelos_LATAM[\"Fecha_I\"], 1000, label=\"Fecha_I\", color=\"yellow\")\n",
    "plt.hist(Vuelos_LATAM[\"Fecha_O\"], 1000, label=\"Fecha_O\", color=\"blue\")\n",
    "plt.show()"
   ]
  },
  {
   "cell_type": "markdown",
   "id": "f673058b",
   "metadata": {},
   "source": [
    "En este grafico se aprecia la diferencia entre la hora progamada del vuelo(amarrillo) y la hora de operaiocn del vuelo(azul). En algunos Vuelos la espera es considesable."
   ]
  },
  {
   "cell_type": "code",
   "execution_count": 8,
   "id": "f47c9f64",
   "metadata": {},
   "outputs": [
    {
     "data": {
      "image/png": "[encoded data removed]",
      "text/plain": [
       "<Figure size 432x288 with 1 Axes>"
      ]
     },
     "metadata": {
      "needs_background": "light"
     },
     "output_type": "display_data"
    }
   ],
   "source": [
    "NI=Vuelos_LATAM[\"Emp_O\"].value_counts().plot(kind=\"bar\", title=\"Grafico de numero de vuelo segun la aerolinea\")"
   ]
  },
  {
   "cell_type": "markdown",
   "id": "f173cc77",
   "metadata": {},
   "source": [
    "Podes ver que la mayoria de los viajes en el año las tuvo LAN"
   ]
  },
  {
   "cell_type": "code",
   "execution_count": 9,
   "id": "b20f0568",
   "metadata": {
    "scrolled": true
   },
   "outputs": [
    {
     "data": {
      "text/plain": [
       "<matplotlib.legend.Legend at 0x25c36585e50>"
      ]
     },
     "execution_count": 9,
     "metadata": {},
     "output_type": "execute_result"
    },
    {
     "data": {
      "image/png": "[encoded data removed]",
      "text/plain": [
       "<Figure size 432x288 with 1 Axes>"
      ]
     },
     "metadata": {},
     "output_type": "display_data"
    }
   ],
   "source": [
    "Gmes=Vuelos_LATAM[\"Mes\"].value_counts().plot(kind=\"pie\", autopct='%1.2f%%')\n",
    "plt.legend( title=\"vuelos por mes\", loc=\"center left\",\n",
    "          bbox_to_anchor=(1, 0, 0.5, 1))\n"
   ]
  },
  {
   "cell_type": "markdown",
   "id": "d975a881",
   "metadata": {},
   "source": [
    "Los vuelos mensuales a lo largo del año son bastante parejos, uno piensa que la mayor cantidad de vuelos se dan en los menos de vacaciones. Aunque si son mayores no tienen un aumneto significativo respecto a los otros meses."
   ]
  },
  {
   "cell_type": "markdown",
   "id": "da310032",
   "metadata": {},
   "source": [
    "#¿Cómo se distribuyen los datos? ¿Qué te llama la atención o cuál es tu conclusión sobre esto?\n",
    "\n",
    "Los datos en su mayoría son de tipo categórico, por lo que no podríamos hacer una gráfica de dispersión. Me sorprendió que los viajes fueran muy semejantes de un mes a otro. También me sorprendió gran ventaja de vuelo que tiene LAN con respecto a otras aerolíneas. También me sorprendió que a pesar que en el grafico 1 no este agradable para visualizar, se puede apreciar tiempos de espera significantes. Para un mayor análisis debemos generar grupos o segmentar.  \n"
   ]
  },
  {
   "cell_type": "code",
   "execution_count": null,
   "id": "68eff454",
   "metadata": {},
   "outputs": [],
   "source": [
    "GEneramos la diferencia en minutos."
   ]
  },
  {
   "cell_type": "code",
   "execution_count": 5,
   "id": "e29a3049",
   "metadata": {},
   "outputs": [],
   "source": [
    "Vuelos_LATAM[\"Dif\"]=(Vuelos_LATAM[\"Fecha_O\"]-Vuelos_LATAM[\"Fecha_I\"])\n",
    "Vuelos_LATAM[\"Dif\"]=Vuelos_LATAM[\"Dif\"]/np.timedelta64(1,\"m\")"
   ]
  },
  {
   "cell_type": "code",
   "execution_count": 51,
   "id": "db185c9d",
   "metadata": {
    "scrolled": true
   },
   "outputs": [
    {
     "data": {
      "text/plain": [
       "0         3.0\n",
       "1         9.0\n",
       "2         9.0\n",
       "3         3.0\n",
       "4        -2.0\n",
       "         ... \n",
       "68201    46.0\n",
       "68202    16.0\n",
       "68203    40.0\n",
       "68204    13.0\n",
       "68205     9.0\n",
       "Name: Dif, Length: 68206, dtype: float64"
      ]
     },
     "execution_count": 51,
     "metadata": {},
     "output_type": "execute_result"
    }
   ],
   "source": [
    "Vuelos_LATAM[\"Dif\"]"
   ]
  },
  {
   "cell_type": "code",
   "execution_count": null,
   "id": "60ea8b9d",
   "metadata": {},
   "outputs": [],
   "source": [
    "Veremos si el atraso es de mas de 15 minutos "
   ]
  },
  {
   "cell_type": "code",
   "execution_count": 11,
   "id": "55edfad8",
   "metadata": {
    "scrolled": true
   },
   "outputs": [],
   "source": [
    "Vuelos_LATAM[\"Atraso\"]=np.where(Vuelos_LATAM[\"Dif\"]>15, \"1\",\"0\")"
   ]
  },
  {
   "cell_type": "code",
   "execution_count": null,
   "id": "96c59fd7",
   "metadata": {},
   "outputs": [],
   "source": [
    "Generamos la variable Temporada_Alta"
   ]
  },
  {
   "cell_type": "code",
   "execution_count": 6,
   "id": "8bd4dd84",
   "metadata": {
    "scrolled": true
   },
   "outputs": [],
   "source": [
    " condicion=[\n",
    "    (Vuelos_LATAM[\"Fecha_I\"]<=\"2017-03-03\"),\n",
    "    (Vuelos_LATAM[\"Fecha_I\"]>=\"2017-07-15\")&(Vuelos_LATAM[\"Fecha_I\"]<=\"2017-07-31\"),\n",
    "    (Vuelos_LATAM[\"Fecha_I\"]>=\"2017-11-09\")&(Vuelos_LATAM[\"Fecha_I\"]<=\"2017-09-30\"),\n",
    "    (Vuelos_LATAM[\"Fecha_I\"]>=\"2017-12-15\"),\n",
    "    (Vuelos_LATAM[\"Fecha_I\"]>\"2017-03-03\")&(Vuelos_LATAM[\"Fecha_I\"]<\"2017-07-15\"),\n",
    "    (Vuelos_LATAM[\"Fecha_I\"]>\"2017-07-31\")&(Vuelos_LATAM[\"Fecha_I\"]<\"2017-11-09\"),\n",
    "    (Vuelos_LATAM[\"Fecha_I\"]>\"2017-09-30\")&(Vuelos_LATAM[\"Fecha_I\"]<\"2017-12-15\")\n",
    "    \n",
    "]\n",
    "\n",
    "choicelist = ['1','1',\"1\",\"1\",\"0\",\"0\",\"0\"]\n",
    "Vuelos_LATAM[\"Tempora_Alta\"]=np.select(condicion, choicelist, default='Not Specified')"
   ]
  },
  {
   "cell_type": "code",
   "execution_count": 55,
   "id": "97c0fef7",
   "metadata": {
    "scrolled": true
   },
   "outputs": [
    {
     "data": {
      "text/plain": [
       "0    49592\n",
       "1    18614\n",
       "Name: Tempora_Alta, dtype: int64"
      ]
     },
     "execution_count": 55,
     "metadata": {},
     "output_type": "execute_result"
    }
   ],
   "source": [
    "Vuelos_LATAM[\"Tempora_Alta\"].value_counts()"
   ]
  },
  {
   "cell_type": "markdown",
   "id": "5d468f19",
   "metadata": {},
   "source": [
    "Generamos la variable Periodo_dia.\n",
    "Vamos a separar la hora, minutos y segundos de la variable Fecha_I"
   ]
  },
  {
   "cell_type": "code",
   "execution_count": 7,
   "id": "ba54eac3",
   "metadata": {},
   "outputs": [],
   "source": [
    "Vuelos_LATAM[\"hora_minu\"]=Vuelos_LATAM[\"Fecha_I\"].dt.strftime('%H:%M:%S')"
   ]
  },
  {
   "cell_type": "code",
   "execution_count": 8,
   "id": "93e568ae",
   "metadata": {},
   "outputs": [],
   "source": [
    " condicion=[\n",
    "     (Vuelos_LATAM[\"hora_minu\"]>=\"00:00:00\")&(Vuelos_LATAM[\"hora_minu\"]<\"05:00:00\"),\n",
    "     (Vuelos_LATAM[\"hora_minu\"]>=\"05:00:00\")&(Vuelos_LATAM[\"hora_minu\"]<\"12:00:00\"),\n",
    "     (Vuelos_LATAM[\"hora_minu\"]>=\"12:00:00\")&(Vuelos_LATAM[\"hora_minu\"]<\"19:00:00\"),\n",
    "     (Vuelos_LATAM[\"hora_minu\"]>=\"19:00:00\")&(Vuelos_LATAM[\"hora_minu\"]<=\"23:59:00\"),\n",
    "     \n",
    "]\n",
    "\n",
    "choicelist = [\"Noche\",\"Mañana\", \"Tarde\", \"Noche\"]\n",
    "Vuelos_LATAM[\"Periodo_dia\"]=np.select(condicion, choicelist, default='Not Specified')"
   ]
  },
  {
   "cell_type": "code",
   "execution_count": null,
   "id": "bb25c518",
   "metadata": {},
   "outputs": [],
   "source": [
    "Debido que todas las variables son categoricas, aplicaremos un modelo logistico. EL modelo quedaria de la siguiente forma:\n",
    "    Yi=B0+B1xi1+..........Bkxk1, donde cada categoria de las varibales poseen un estimadores donde toma el valor 1 o 0.\n",
    "    donde:\n",
    "        x1=Destino\n",
    "        x2=aerolinea\n",
    "        x3=mes del año\n",
    "        x4=dia de la semana\n",
    "        x5=temporada \n",
    "        x6=tipo de vuelo\n",
    "    \n",
    "    \n",
    "Supuestos:\n",
    "    -Las observaciones son independiente.\n",
    "    - Pueden tener tendencias."
   ]
  },
  {
   "cell_type": "markdown",
   "id": "1c08937a",
   "metadata": {},
   "source": [
    "Antes que todo voy agregar nuevas columnas que que vana representar las variables categoricas de forma binaria."
   ]
  },
  {
   "cell_type": "markdown",
   "id": "ce76bd44",
   "metadata": {},
   "source": [
    "Generamos la columna dia de_semana. Donde tomara los siguiente valore:\n",
    "Lunes=0\n",
    "Martes=1\n",
    "Miercoles=2\n",
    "Jueves=3\n",
    "Viernes=4\n",
    "Sabado=5\n",
    "Domingo=6"
   ]
  },
  {
   "cell_type": "code",
   "execution_count": 9,
   "id": "e3ef6945",
   "metadata": {},
   "outputs": [],
   "source": [
    "Vuelos_LATAM[\"dia_semana\"]=Vuelos_LATAM[\"Fecha_I\"].dt.dayofweek"
   ]
  },
  {
   "cell_type": "code",
   "execution_count": null,
   "id": "d0802c53",
   "metadata": {},
   "outputs": [],
   "source": [
    "Vamos a exportar en un archivo csv las columnas creadas."
   ]
  },
  {
   "cell_type": "code",
   "execution_count": 42,
   "id": "1cfb3d3f",
   "metadata": {},
   "outputs": [],
   "source": [
    "df2=pd.DataFrame(Vuelos_LATAM.loc[:,[\"Atraso\",\"Tempora_Alta\", \"Periodo_dia\", \"Dif\"]])\n",
    "df2.to_csv(\"df2.csv\")"
   ]
  },
  {
   "cell_type": "markdown",
   "id": "277b8451",
   "metadata": {},
   "source": [
    "Para eso selecionare las columnas que quiero trabajar."
   ]
  },
  {
   "cell_type": "code",
   "execution_count": 12,
   "id": "cf49165f",
   "metadata": {},
   "outputs": [
    {
     "data": {
      "text/html": [
       "<div>\n",
       "<style scoped>\n",
       "    .dataframe tbody tr th:only-of-type {\n",
       "        vertical-align: middle;\n",
       "    }\n",
       "\n",
       "    .dataframe tbody tr th {\n",
       "        vertical-align: top;\n",
       "    }\n",
       "\n",
       "    .dataframe thead th {\n",
       "        text-align: right;\n",
       "    }\n",
       "</style>\n",
       "<table border=\"1\" class=\"dataframe\">\n",
       "  <thead>\n",
       "    <tr style=\"text-align: right;\">\n",
       "      <th></th>\n",
       "      <th>Atraso</th>\n",
       "      <th>Siglades</th>\n",
       "      <th>Opera</th>\n",
       "      <th>Mes</th>\n",
       "      <th>dia_semana</th>\n",
       "      <th>Tempora_Alta</th>\n",
       "      <th>Tipodevuelo</th>\n",
       "    </tr>\n",
       "  </thead>\n",
       "  <tbody>\n",
       "    <tr>\n",
       "      <th>0</th>\n",
       "      <td>0</td>\n",
       "      <td>Miami</td>\n",
       "      <td>American Airlines</td>\n",
       "      <td>1</td>\n",
       "      <td>6</td>\n",
       "      <td>1</td>\n",
       "      <td>I</td>\n",
       "    </tr>\n",
       "    <tr>\n",
       "      <th>1</th>\n",
       "      <td>0</td>\n",
       "      <td>Miami</td>\n",
       "      <td>American Airlines</td>\n",
       "      <td>1</td>\n",
       "      <td>0</td>\n",
       "      <td>1</td>\n",
       "      <td>I</td>\n",
       "    </tr>\n",
       "    <tr>\n",
       "      <th>2</th>\n",
       "      <td>0</td>\n",
       "      <td>Miami</td>\n",
       "      <td>American Airlines</td>\n",
       "      <td>1</td>\n",
       "      <td>1</td>\n",
       "      <td>1</td>\n",
       "      <td>I</td>\n",
       "    </tr>\n",
       "    <tr>\n",
       "      <th>3</th>\n",
       "      <td>0</td>\n",
       "      <td>Miami</td>\n",
       "      <td>American Airlines</td>\n",
       "      <td>1</td>\n",
       "      <td>2</td>\n",
       "      <td>1</td>\n",
       "      <td>I</td>\n",
       "    </tr>\n",
       "    <tr>\n",
       "      <th>4</th>\n",
       "      <td>0</td>\n",
       "      <td>Miami</td>\n",
       "      <td>American Airlines</td>\n",
       "      <td>1</td>\n",
       "      <td>3</td>\n",
       "      <td>1</td>\n",
       "      <td>I</td>\n",
       "    </tr>\n",
       "    <tr>\n",
       "      <th>...</th>\n",
       "      <td>...</td>\n",
       "      <td>...</td>\n",
       "      <td>...</td>\n",
       "      <td>...</td>\n",
       "      <td>...</td>\n",
       "      <td>...</td>\n",
       "      <td>...</td>\n",
       "    </tr>\n",
       "    <tr>\n",
       "      <th>68201</th>\n",
       "      <td>1</td>\n",
       "      <td>Lima</td>\n",
       "      <td>JetSmart SPA</td>\n",
       "      <td>12</td>\n",
       "      <td>4</td>\n",
       "      <td>1</td>\n",
       "      <td>I</td>\n",
       "    </tr>\n",
       "    <tr>\n",
       "      <th>68202</th>\n",
       "      <td>1</td>\n",
       "      <td>Lima</td>\n",
       "      <td>JetSmart SPA</td>\n",
       "      <td>12</td>\n",
       "      <td>0</td>\n",
       "      <td>1</td>\n",
       "      <td>I</td>\n",
       "    </tr>\n",
       "    <tr>\n",
       "      <th>68203</th>\n",
       "      <td>1</td>\n",
       "      <td>Lima</td>\n",
       "      <td>JetSmart SPA</td>\n",
       "      <td>12</td>\n",
       "      <td>2</td>\n",
       "      <td>1</td>\n",
       "      <td>I</td>\n",
       "    </tr>\n",
       "    <tr>\n",
       "      <th>68204</th>\n",
       "      <td>0</td>\n",
       "      <td>Lima</td>\n",
       "      <td>JetSmart SPA</td>\n",
       "      <td>12</td>\n",
       "      <td>4</td>\n",
       "      <td>1</td>\n",
       "      <td>I</td>\n",
       "    </tr>\n",
       "    <tr>\n",
       "      <th>68205</th>\n",
       "      <td>0</td>\n",
       "      <td>Lima</td>\n",
       "      <td>JetSmart SPA</td>\n",
       "      <td>12</td>\n",
       "      <td>6</td>\n",
       "      <td>1</td>\n",
       "      <td>I</td>\n",
       "    </tr>\n",
       "  </tbody>\n",
       "</table>\n",
       "<p>68206 rows × 7 columns</p>\n",
       "</div>"
      ],
      "text/plain": [
       "      Atraso Siglades              Opera  Mes  dia_semana Tempora_Alta  \\\n",
       "0          0    Miami  American Airlines    1           6            1   \n",
       "1          0    Miami  American Airlines    1           0            1   \n",
       "2          0    Miami  American Airlines    1           1            1   \n",
       "3          0    Miami  American Airlines    1           2            1   \n",
       "4          0    Miami  American Airlines    1           3            1   \n",
       "...      ...      ...                ...  ...         ...          ...   \n",
       "68201      1     Lima       JetSmart SPA   12           4            1   \n",
       "68202      1     Lima       JetSmart SPA   12           0            1   \n",
       "68203      1     Lima       JetSmart SPA   12           2            1   \n",
       "68204      0     Lima       JetSmart SPA   12           4            1   \n",
       "68205      0     Lima       JetSmart SPA   12           6            1   \n",
       "\n",
       "      Tipodevuelo  \n",
       "0               I  \n",
       "1               I  \n",
       "2               I  \n",
       "3               I  \n",
       "4               I  \n",
       "...           ...  \n",
       "68201           I  \n",
       "68202           I  \n",
       "68203           I  \n",
       "68204           I  \n",
       "68205           I  \n",
       "\n",
       "[68206 rows x 7 columns]"
      ]
     },
     "execution_count": 12,
     "metadata": {},
     "output_type": "execute_result"
    }
   ],
   "source": [
    "df=pd.DataFrame(Vuelos_LATAM.loc[:,[\"Atraso\",\"Siglades\",\"Opera\",\"Mes\",\"dia_semana\",\"Tempora_Alta\",\"Tipodevuelo\"]])\n",
    "df"
   ]
  },
  {
   "cell_type": "markdown",
   "id": "365338dd",
   "metadata": {},
   "source": [
    "Reslizaremos el cambio de variable tipo de vuelo, opera, Destinode viajes a binario."
   ]
  },
  {
   "cell_type": "code",
   "execution_count": 13,
   "id": "a59fe5d1",
   "metadata": {},
   "outputs": [],
   "source": [
    "df['Tipodevuelo']= df['Tipodevuelo'].replace(['I','N'],['1','0']) \n"
   ]
  },
  {
   "cell_type": "code",
   "execution_count": 14,
   "id": "f5b0d72f",
   "metadata": {},
   "outputs": [],
   "source": [
    "df[\"Opera\"]= df[\"Opera\"].replace([\"Grupo LATAM\",\"Sky Airline\",\"Aerolineas Argentinas\",\"Copa Air\",\"Latin American Wings\",\"Avianca\",\"JetSmart SPA\",\"Gol Trans\",\"American Airlines\",\"Air Canada\",\"Iberia\",\"Delta Air\",\"Air France\",\"Aeromexico\",\"United Airlines\",\"Oceanair Linhas Aereas\",\"Alitalia\",\"K.L.M.\",\"British Airways\",\"Qantas Airways\",\"Lacsa\",\"Austral\",\"Plus Ultra Lineas Aereas\"],['0','1',\"2\",\"3\",\"4\",\"5\",\"6\",\"7\",\"8\",\"9\",\"10\",\"11\",\"12\",\"13\",\"14\",\"15\",\"16\",\"17\",\"18\",\"19\",\"20\",\"21\",\"22\"]) \n"
   ]
  },
  {
   "cell_type": "code",
   "execution_count": 15,
   "id": "32022d10",
   "metadata": {},
   "outputs": [
    {
     "data": {
      "text/html": [
       "<div>\n",
       "<style scoped>\n",
       "    .dataframe tbody tr th:only-of-type {\n",
       "        vertical-align: middle;\n",
       "    }\n",
       "\n",
       "    .dataframe tbody tr th {\n",
       "        vertical-align: top;\n",
       "    }\n",
       "\n",
       "    .dataframe thead th {\n",
       "        text-align: right;\n",
       "    }\n",
       "</style>\n",
       "<table border=\"1\" class=\"dataframe\">\n",
       "  <thead>\n",
       "    <tr style=\"text-align: right;\">\n",
       "      <th></th>\n",
       "      <th>Atraso</th>\n",
       "      <th>Siglades</th>\n",
       "      <th>Opera</th>\n",
       "      <th>Mes</th>\n",
       "      <th>dia_semana</th>\n",
       "      <th>Tempora_Alta</th>\n",
       "      <th>Tipodevuelo</th>\n",
       "    </tr>\n",
       "  </thead>\n",
       "  <tbody>\n",
       "    <tr>\n",
       "      <th>0</th>\n",
       "      <td>0</td>\n",
       "      <td>20</td>\n",
       "      <td>8</td>\n",
       "      <td>1</td>\n",
       "      <td>6</td>\n",
       "      <td>1</td>\n",
       "      <td>1</td>\n",
       "    </tr>\n",
       "    <tr>\n",
       "      <th>1</th>\n",
       "      <td>0</td>\n",
       "      <td>20</td>\n",
       "      <td>8</td>\n",
       "      <td>1</td>\n",
       "      <td>0</td>\n",
       "      <td>1</td>\n",
       "      <td>1</td>\n",
       "    </tr>\n",
       "    <tr>\n",
       "      <th>2</th>\n",
       "      <td>0</td>\n",
       "      <td>20</td>\n",
       "      <td>8</td>\n",
       "      <td>1</td>\n",
       "      <td>1</td>\n",
       "      <td>1</td>\n",
       "      <td>1</td>\n",
       "    </tr>\n",
       "    <tr>\n",
       "      <th>3</th>\n",
       "      <td>0</td>\n",
       "      <td>20</td>\n",
       "      <td>8</td>\n",
       "      <td>1</td>\n",
       "      <td>2</td>\n",
       "      <td>1</td>\n",
       "      <td>1</td>\n",
       "    </tr>\n",
       "    <tr>\n",
       "      <th>4</th>\n",
       "      <td>0</td>\n",
       "      <td>20</td>\n",
       "      <td>8</td>\n",
       "      <td>1</td>\n",
       "      <td>3</td>\n",
       "      <td>1</td>\n",
       "      <td>1</td>\n",
       "    </tr>\n",
       "    <tr>\n",
       "      <th>...</th>\n",
       "      <td>...</td>\n",
       "      <td>...</td>\n",
       "      <td>...</td>\n",
       "      <td>...</td>\n",
       "      <td>...</td>\n",
       "      <td>...</td>\n",
       "      <td>...</td>\n",
       "    </tr>\n",
       "    <tr>\n",
       "      <th>68201</th>\n",
       "      <td>1</td>\n",
       "      <td>2</td>\n",
       "      <td>6</td>\n",
       "      <td>12</td>\n",
       "      <td>4</td>\n",
       "      <td>1</td>\n",
       "      <td>1</td>\n",
       "    </tr>\n",
       "    <tr>\n",
       "      <th>68202</th>\n",
       "      <td>1</td>\n",
       "      <td>2</td>\n",
       "      <td>6</td>\n",
       "      <td>12</td>\n",
       "      <td>0</td>\n",
       "      <td>1</td>\n",
       "      <td>1</td>\n",
       "    </tr>\n",
       "    <tr>\n",
       "      <th>68203</th>\n",
       "      <td>1</td>\n",
       "      <td>2</td>\n",
       "      <td>6</td>\n",
       "      <td>12</td>\n",
       "      <td>2</td>\n",
       "      <td>1</td>\n",
       "      <td>1</td>\n",
       "    </tr>\n",
       "    <tr>\n",
       "      <th>68204</th>\n",
       "      <td>0</td>\n",
       "      <td>2</td>\n",
       "      <td>6</td>\n",
       "      <td>12</td>\n",
       "      <td>4</td>\n",
       "      <td>1</td>\n",
       "      <td>1</td>\n",
       "    </tr>\n",
       "    <tr>\n",
       "      <th>68205</th>\n",
       "      <td>0</td>\n",
       "      <td>2</td>\n",
       "      <td>6</td>\n",
       "      <td>12</td>\n",
       "      <td>6</td>\n",
       "      <td>1</td>\n",
       "      <td>1</td>\n",
       "    </tr>\n",
       "  </tbody>\n",
       "</table>\n",
       "<p>68206 rows × 7 columns</p>\n",
       "</div>"
      ],
      "text/plain": [
       "      Atraso Siglades Opera  Mes  dia_semana Tempora_Alta Tipodevuelo\n",
       "0          0       20     8    1           6            1           1\n",
       "1          0       20     8    1           0            1           1\n",
       "2          0       20     8    1           1            1           1\n",
       "3          0       20     8    1           2            1           1\n",
       "4          0       20     8    1           3            1           1\n",
       "...      ...      ...   ...  ...         ...          ...         ...\n",
       "68201      1        2     6   12           4            1           1\n",
       "68202      1        2     6   12           0            1           1\n",
       "68203      1        2     6   12           2            1           1\n",
       "68204      0        2     6   12           4            1           1\n",
       "68205      0        2     6   12           6            1           1\n",
       "\n",
       "[68206 rows x 7 columns]"
      ]
     },
     "execution_count": 15,
     "metadata": {},
     "output_type": "execute_result"
    }
   ],
   "source": [
    "df[\"Siglades\"]= df[\"Siglades\"].replace([\"Buenos Aires\",\"Antofagasta\",\"Lima\",\"Calama\",\"Puerto Montt\",\"Cochabamba\",\"Concepcion\",\"Iquique\",\"Sao Paulo\",\"Temuco\",\"Arica\",\"La Serena\",\"Punta Arenas\",\"Ciudad de Panama\",\"Copiapo\",\"Mendoza\",\"Bogota\",\"Rio de Janeiro\",\"Montevideo\",\"Cordoba\",\"Miami\",\"Madrid\",\"Balmaceda\",\"Valdivia\",\"Ciudad de Mexico\",\"Isla de Pascua\",\"Guayaquil\",\"Nueva York\",\"Auckland N.Z.\",\"Paris\",\"Atlanta\",\"Dallas\",\"Houston\",\"Toronto\",\"Osorno\",\"Roma\",\"Castro (Chiloe)\",\"Asuncion\",\"La Paz\",\"Londres\",\"Sydney\",\"Florianapolis\",\"Los Angeles\",\"Rosario\",\"Santa Cruz\",\"Puerto Natales\",\"Cancun\",\"Punta Cana\",\"Melbourne\",\"Tucuman\",\"Neuquen\",\"San Juan, Arg.\",\"Orlando\",\"Punta del Este\",\"Ushuia\",\"Curitiba, Bra.\",\"Cataratas Iguacu\",\"Bariloche\",\"Quito\",\"Washington\",\"Pisco, Peru\",\"Puerto Stanley\",],[\"0\",\"1\",\"2\",\"3\",\"4\",\"5\",\"6\",\"7\",\"8\",\"9\",\"10\",\"11\",\"12\",\"13\",\"14\",\"15\",\"16\",\"17\",\"18\",\"19\",\"20\",\"21\",\"22\",\"23\",\"24\",\"25\",\"26\",\"27\",\"28\",\"29\",\"30\",\"31\",\"32\",\"33\",\"34\",\"35\",\"36\",\"37\",\"38\",\"39\",\"40\",\"41\",\"42\",\"43\",\"44\",\"45\",\"46\",\"47\",\"48\",\"49\",\"50\",\"51\",\"52\",\"53\",\"54\",\"55\",\"56\",\"57\",\"58\",\"59\",\"60\",\"61\"])\n",
    "df"
   ]
  },
  {
   "cell_type": "code",
   "execution_count": 16,
   "id": "bed6ad11",
   "metadata": {},
   "outputs": [],
   "source": [
    "df['dia_semana'] = df['dia_semana'].astype('object')"
   ]
  },
  {
   "cell_type": "code",
   "execution_count": 17,
   "id": "8fa87372",
   "metadata": {},
   "outputs": [
    {
     "data": {
      "text/plain": [
       "Atraso          object\n",
       "Siglades        object\n",
       "Opera           object\n",
       "Mes             object\n",
       "dia_semana      object\n",
       "Tempora_Alta    object\n",
       "Tipodevuelo     object\n",
       "dtype: object"
      ]
     },
     "execution_count": 17,
     "metadata": {},
     "output_type": "execute_result"
    }
   ],
   "source": [
    "df['Mes'] = df['Mes'].astype('object')\n",
    "df.dtypes"
   ]
  },
  {
   "cell_type": "code",
   "execution_count": null,
   "id": "09a5a6c0",
   "metadata": {},
   "outputs": [],
   "source": [
    "Ahora que tenemos todas las variables como categoria, podemos comenzar a realizar la regresion de tipo logic. Comenzamos el modelo definiendo las variables X e y."
   ]
  },
  {
   "cell_type": "code",
   "execution_count": 18,
   "id": "6487f3a2",
   "metadata": {},
   "outputs": [
    {
     "name": "stderr",
     "output_type": "stream",
     "text": [
      "C:\\Users\\Jonathan\\AppData\\Local\\Temp\\ipykernel_1380\\3319546235.py:1: FutureWarning: In a future version of pandas all arguments of DataFrame.drop except for the argument 'labels' will be keyword-only.\n",
      "  x = np.array(df.drop(['Atraso'],1))\n"
     ]
    }
   ],
   "source": [
    "x = np.array(df.drop(['Atraso'],1))\n",
    "y = np.array(df['Atraso'])"
   ]
  },
  {
   "cell_type": "code",
   "execution_count": 19,
   "id": "53fbcd56",
   "metadata": {},
   "outputs": [
    {
     "data": {
      "text/plain": [
       "LogisticRegression()"
      ]
     },
     "execution_count": 19,
     "metadata": {},
     "output_type": "execute_result"
    }
   ],
   "source": [
    "modelo1 = linear_model.LogisticRegression()\n",
    "modelo1.fit(x,y)"
   ]
  },
  {
   "cell_type": "markdown",
   "id": "be62d39d",
   "metadata": {},
   "source": [
    "Vemos que tan bueno es nuestro modelo1.Es un modelo aceptable, no es de los mejores pero es aceptable, explica nuestro modelo en un 81%."
   ]
  },
  {
   "cell_type": "code",
   "execution_count": 20,
   "id": "cfb3481f",
   "metadata": {},
   "outputs": [
    {
     "data": {
      "text/plain": [
       "0.8150602586282731"
      ]
     },
     "execution_count": 20,
     "metadata": {},
     "output_type": "execute_result"
    }
   ],
   "source": [
    "modelo1.score(x,y)"
   ]
  },
  {
   "cell_type": "markdown",
   "id": "b2c0c31d",
   "metadata": {},
   "source": [
    "Mostramos los coeficientes"
   ]
  },
  {
   "cell_type": "code",
   "execution_count": 21,
   "id": "13efd104",
   "metadata": {},
   "outputs": [
    {
     "name": "stdout",
     "output_type": "stream",
     "text": [
      "[[-0.00370773 -0.01471328  0.08141764 -0.02671636  0.39765615  0.56281902]]\n"
     ]
    }
   ],
   "source": [
    "print(modelo1.coef_)"
   ]
  },
  {
   "cell_type": "markdown",
   "id": "fb6baa04",
   "metadata": {},
   "source": [
    "Moatramos la intercepcion."
   ]
  },
  {
   "cell_type": "code",
   "execution_count": 22,
   "id": "ba01509a",
   "metadata": {
    "scrolled": true
   },
   "outputs": [
    {
     "name": "stdout",
     "output_type": "stream",
     "text": [
      "[-2.29408139]\n"
     ]
    }
   ],
   "source": [
    "print(modelo1.intercept_)"
   ]
  },
  {
   "cell_type": "code",
   "execution_count": 59,
   "id": "d9ca2937",
   "metadata": {},
   "outputs": [
    {
     "data": {
      "text/plain": [
       "array(['0', '0', '0', ..., '0', '0', '0'], dtype=object)"
      ]
     },
     "execution_count": 59,
     "metadata": {},
     "output_type": "execute_result"
    }
   ],
   "source": [
    "predic=modelo1.predict(x)\n",
    "predic"
   ]
  },
  {
   "cell_type": "markdown",
   "id": "f5453685",
   "metadata": {},
   "source": [
    "Las variables que influyen mucho en el modelo son \"tipo de vuelo\" y \"temporada de vuelo\", lo cual uno que si influye en el tiempo de atraso de los vuelos.\n",
    "Debido que en temporada alta hay mas vuelos y si el viaje es internacional, hay que pensar que llegan a aeropuertos gigantes de ciudades desarrolldas, donde llegan muchos mas aviones que en un pais sub-desarrollado.\n",
    "Para mi sorpresa la variable dia de la semana pense que afectaria de forma positiva, debido que uno siempre piensa en viajar el finde semna."
   ]
  },
  {
   "cell_type": "markdown",
   "id": "e317eecc",
   "metadata": {},
   "source": [
    "Ahora vamos a subdividir nuestro conjunto de datos, uno de entrenmiento y otro para validar el modelo. De esta forma evitaremos problemas de sobregeneralizar.\n",
    "El entrenamiento tendra el 80% de los datos y la validacion el 20 % de los datos."
   ]
  },
  {
   "cell_type": "code",
   "execution_count": 30,
   "id": "67f9b3aa",
   "metadata": {},
   "outputs": [],
   "source": [
    "x_train, x_test, y_train, y_test=train_test_split(x, y, test_size=0.20, random_state=0)"
   ]
  },
  {
   "cell_type": "markdown",
   "id": "e1714221",
   "metadata": {},
   "source": [
    "Vamos a estandarizar la escala, aunque no creo que sea necesario por la naturaleza de nuestro variable x"
   ]
  },
  {
   "cell_type": "code",
   "execution_count": 29,
   "id": "cac0830c",
   "metadata": {},
   "outputs": [],
   "source": [
    "sc=StandardScaler()\n",
    "x_train=sc.fit_transform(x_train)\n",
    "x_test=sc.transform(x_test)"
   ]
  },
  {
   "cell_type": "markdown",
   "id": "abe87827",
   "metadata": {},
   "source": [
    "Modelo de validacion."
   ]
  },
  {
   "cell_type": "code",
   "execution_count": 34,
   "id": "ebca729a",
   "metadata": {},
   "outputs": [
    {
     "data": {
      "text/plain": [
       "LogisticRegression(random_state=0)"
      ]
     },
     "execution_count": 34,
     "metadata": {},
     "output_type": "execute_result"
    }
   ],
   "source": [
    "modelo2=linear_model.LogisticRegression(random_state=0)\n",
    "modelo2.fit(x_train, y_train)"
   ]
  },
  {
   "cell_type": "code",
   "execution_count": 68,
   "id": "418f53aa",
   "metadata": {},
   "outputs": [
    {
     "data": {
      "text/plain": [
       "0.8150612125210762"
      ]
     },
     "execution_count": 68,
     "metadata": {},
     "output_type": "execute_result"
    }
   ],
   "source": [
    "modelo2.score(x_train, y_train)"
   ]
  },
  {
   "cell_type": "markdown",
   "id": "208b153e",
   "metadata": {},
   "source": [
    "El sub-conjunto de datos de validacion representa en un 81% el modelo"
   ]
  },
  {
   "cell_type": "code",
   "execution_count": 69,
   "id": "8044e7b8",
   "metadata": {},
   "outputs": [
    {
     "name": "stdout",
     "output_type": "stream",
     "text": [
      "[[-0.00465875 -0.01283679  0.08153734 -0.02579958  0.39144127  0.56195113]]\n"
     ]
    }
   ],
   "source": [
    "print(modelo2.coef_)"
   ]
  }
 ],
 "metadata": {
  "kernelspec": {
   "display_name": "Python 3 (ipykernel)",
   "language": "python",
   "name": "python3"
  },
  "language_info": {
   "codemirror_mode": {
    "name": "ipython",
    "version": 3
   },
   "file_extension": ".py",
   "mimetype": "text/x-python",
   "name": "python",
   "nbconvert_exporter": "python",
   "pygments_lexer": "ipython3",
   "version": "3.9.10"
  }
 },
 "nbformat": 4,
 "nbformat_minor": 5
}
